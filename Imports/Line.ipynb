{
 "cells": [
  {
   "cell_type": "code",
   "execution_count": 1,
   "metadata": {
    "collapsed": true
   },
   "outputs": [],
   "source": [
    "import numpy as np\n",
    "import cv2\n",
    "import matplotlib.pyplot as plt\n",
    "import matplotlib.image as mpimg\n",
    "import pickle"
   ]
  },
  {
   "cell_type": "code",
   "execution_count": 2,
   "metadata": {
    "collapsed": true
   },
   "outputs": [],
   "source": [
    "# Define a class to receive the characteristics of each line detection\n",
    "class Line():\n",
    "\tdef __init__(self, n):\n",
    "\t\t\"\"\"\n",
    "\t\tn is the window size of the moving average\n",
    "\t\t\"\"\"\n",
    "\t\tself.n = n\n",
    "\t\tself.detected = False\n",
    "\n",
    "\t\t# Polynomial coefficients: x = A*y^2 + B*y + C\n",
    "\t\t# Each of A, B, C is a \"list-queue\" with max length n\n",
    "\t\tself.A = []\n",
    "\t\tself.B = []\n",
    "\t\tself.C = []\n",
    "\t\t# Average of above\n",
    "\t\tself.A_avg = 0.\n",
    "\t\tself.B_avg = 0.\n",
    "\t\tself.C_avg = 0.\n",
    "\tdef get_fit(self):\n",
    "\t\treturn (self.A_avg, self.B_avg, self.C_avg)\n",
    "\n",
    "\tdef add_fit(self, fit_coeffs):\n",
    "\t\t\"\"\"\n",
    "\t\tGets most recent line fit coefficients and updates internal smoothed coefficients\n",
    "\t\tfit_coeffs is a 3-element list of 2nd-order polynomial coefficients\n",
    "\t\t\"\"\"\n",
    "\t\t# Coefficient queue full?\n",
    "\t\tq_full = len(self.A) >= self.n\n",
    "\n",
    "\t\t# Append line fit coefficients\n",
    "\t\tself.A.append(fit_coeffs[0])\n",
    "\t\tself.B.append(fit_coeffs[1])\n",
    "\t\tself.C.append(fit_coeffs[2])\n",
    "\n",
    "\t\t# Pop from index 0 if full\n",
    "\t\tif q_full:\n",
    "\t\t\t_ = self.A.pop(0)\n",
    "\t\t\t_ = self.B.pop(0)\n",
    "\t\t\t_ = self.C.pop(0)\n",
    "\n",
    "\t\t# Simple average of line coefficients\n",
    "\t\tself.A_avg = np.mean(self.A)\n",
    "\t\tself.B_avg = np.mean(self.B)\n",
    "\t\tself.C_avg = np.mean(self.C)\n",
    "\n",
    "\t\treturn (self.A_avg, self.B_avg, self.C_avg)\n"
   ]
  },
  {
   "cell_type": "code",
   "execution_count": null,
   "metadata": {
    "collapsed": true
   },
   "outputs": [],
   "source": []
  },
  {
   "cell_type": "code",
   "execution_count": null,
   "metadata": {
    "collapsed": true
   },
   "outputs": [],
   "source": []
  },
  {
   "cell_type": "code",
   "execution_count": null,
   "metadata": {
    "collapsed": true
   },
   "outputs": [],
   "source": []
  },
  {
   "cell_type": "code",
   "execution_count": null,
   "metadata": {
    "collapsed": true
   },
   "outputs": [],
   "source": []
  },
  {
   "cell_type": "code",
   "execution_count": null,
   "metadata": {
    "collapsed": true
   },
   "outputs": [],
   "source": []
  }
 ],
 "metadata": {
  "kernelspec": {
   "display_name": "Python 3",
   "language": "python",
   "name": "python3"
  },
  "language_info": {
   "codemirror_mode": {
    "name": "ipython",
    "version": 3
   },
   "file_extension": ".py",
   "mimetype": "text/x-python",
   "name": "python",
   "nbconvert_exporter": "python",
   "pygments_lexer": "ipython3",
   "version": "3.6.1"
  }
 },
 "nbformat": 4,
 "nbformat_minor": 2
}
