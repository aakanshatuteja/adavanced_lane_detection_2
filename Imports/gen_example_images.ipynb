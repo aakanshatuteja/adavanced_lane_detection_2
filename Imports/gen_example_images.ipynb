{
 "cells": [
  {
   "cell_type": "code",
   "execution_count": 1,
   "metadata": {},
   "outputs": [],
   "source": [
    "import numpy as np\n",
    "import cv2\n",
    "import matplotlib.pyplot as plt\n",
    "import matplotlib.image as mpimg\n",
    "import pickle\n",
    "import os\n",
    "from combined_thresh import combined_thresh\n",
    "from perspective_transform import perspective_transform\n",
    "from line_fit import line_fit, viz2, calc_curve, final_viz"
   ]
  },
  {
   "cell_type": "code",
   "execution_count": 2,
   "metadata": {
    "collapsed": true
   },
   "outputs": [],
   "source": [
    "# Read camera calibration coefficients\n",
    "with open('calibrate_camera.p', 'rb') as f:\n",
    "\tsave_dict = pickle.load(f)\n",
    "mtx = save_dict['mtx']\n",
    "dist = save_dict['dist']"
   ]
  },
  {
   "cell_type": "code",
   "execution_count": 3,
   "metadata": {
    "collapsed": true
   },
   "outputs": [],
   "source": [
    "# Create example pipeline images for all test images\n",
    "image_files = os.listdir('test_images')\n",
    "for image_file in image_files:\n",
    "\tout_image_file = image_file.split('.')[0] + '.png'  # write to png format\n",
    "\timg = mpimg.imread('test_images/' + image_file)\n",
    "\n",
    "\t# Undistort image\n",
    "\timg = cv2.undistort(img, mtx, dist, None, mtx)\n",
    "\tplt.imshow(img)\n",
    "\tplt.savefig('example_images/undistort_' + out_image_file)\n",
    "\n",
    "\t# Thresholded binary image\n",
    "\timg, abs_bin, mag_bin, dir_bin, hls_bin = combined_thresh(img)\n",
    "\tplt.imshow(img, cmap='gray', vmin=0, vmax=1)\n",
    "\tplt.savefig('example_images/binary_' + out_image_file)\n",
    "\n",
    "\t# Perspective transform\n",
    "\timg, binary_unwarped, m, m_inv = perspective_transform(img)\n",
    "\tplt.imshow(img, cmap='gray', vmin=0, vmax=1)\n",
    "\tplt.savefig('example_images/warped_' + out_image_file)\n",
    "\n",
    "\t# Polynomial fit\n",
    "\tret = line_fit(img)\n",
    "\tleft_fit = ret['left_fit']\n",
    "\tright_fit = ret['right_fit']\n",
    "\tnonzerox = ret['nonzerox']\n",
    "\tnonzeroy = ret['nonzeroy']\n",
    "\tleft_lane_inds = ret['left_lane_inds']\n",
    "\tright_lane_inds = ret['right_lane_inds']\n",
    "\tsave_file = 'example_images/polyfit_' + out_image_file\n",
    "\tviz2(img, ret, save_file=save_file)\n",
    "\n",
    "\t# Do full annotation on original image\n",
    "\t# Code is the same as in 'line_fit_video.py'\n",
    "\torig = mpimg.imread('test_images/' + image_file)\n",
    "\tundist = cv2.undistort(orig, mtx, dist, None, mtx)\n",
    "\tleft_curve, right_curve = calc_curve(left_lane_inds, right_lane_inds, nonzerox, nonzeroy)\n",
    "\n",
    "\tbottom_y = undist.shape[0] - 1\n",
    "\tbottom_x_left = left_fit[0]*(bottom_y**2) + left_fit[1]*bottom_y + left_fit[2]\n",
    "\tbottom_x_right = right_fit[0]*(bottom_y**2) + right_fit[1]*bottom_y + right_fit[2]\n",
    "\tvehicle_offset = undist.shape[1]/2 - (bottom_x_left + bottom_x_right)/2\n",
    "\n",
    "\txm_per_pix = 3.7/700 # meters per pixel in x dimension\n",
    "\tvehicle_offset *= xm_per_pix\n",
    "\n",
    "\timg = final_viz(undist, left_fit, right_fit, m_inv, left_curve, right_curve, vehicle_offset)\n",
    "\tplt.imshow(img)\n",
    "\tplt.savefig('example_images/annotated_' + out_image_file)\n",
    "\n"
   ]
  }
 ],
 "metadata": {
  "kernelspec": {
   "display_name": "Python 3",
   "language": "python",
   "name": "python3"
  },
  "language_info": {
   "codemirror_mode": {
    "name": "ipython",
    "version": 3
   },
   "file_extension": ".py",
   "mimetype": "text/x-python",
   "name": "python",
   "nbconvert_exporter": "python",
   "pygments_lexer": "ipython3",
   "version": "3.6.1"
  }
 },
 "nbformat": 4,
 "nbformat_minor": 2
}
