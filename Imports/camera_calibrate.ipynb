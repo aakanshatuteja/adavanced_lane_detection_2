{
 "cells": [
  {
   "cell_type": "code",
   "execution_count": 1,
   "metadata": {
    "collapsed": true
   },
   "outputs": [],
   "source": [
    "import numpy as np\n",
    "import cv2\n",
    "import matplotlib.pyplot as plt\n",
    "import matplotlib.image as mpimg\n",
    "import pickle"
   ]
  },
  {
   "cell_type": "code",
   "execution_count": 2,
   "metadata": {
    "collapsed": true
   },
   "outputs": [],
   "source": [
    "def calibrate_camera():\n",
    "\t# Mapping each calibration image to number of checkerboard corners\n",
    "\t# Everything is (9,6) for now\n",
    "\tobjp_dict = {\n",
    "\t\t1: (9, 5),\n",
    "\t\t2: (9, 6),\n",
    "\t\t3: (9, 6),\n",
    "\t\t4: (9, 6),\n",
    "\t\t5: (9, 6),\n",
    "\t\t6: (9, 6),\n",
    "\t\t7: (9, 6),\n",
    "\t\t8: (9, 6),\n",
    "\t\t9: (9, 6),\n",
    "\t\t10: (9, 6),\n",
    "\t\t11: (9, 6),\n",
    "\t\t12: (9, 6),\n",
    "\t\t13: (9, 6),\n",
    "\t\t14: (9, 6),\n",
    "\t\t15: (9, 6),\n",
    "\t\t16: (9, 6),\n",
    "\t\t17: (9, 6),\n",
    "\t\t18: (9, 6),\n",
    "\t\t19: (9, 6),\n",
    "\t\t20: (9, 6),\n",
    "\t}\n",
    "\n",
    "\t# List of object points and corners for calibration\n",
    "\tobjp_list = []\n",
    "\tcorners_list = []\n",
    "\n",
    "\t# Go through all images and find corners\n",
    "\tfor k in objp_dict:\n",
    "\t\tnx, ny = objp_dict[k]\n",
    "\n",
    "\t\t# Prepare object points, like (0,0,0), (1,0,0), (2,0,0) ....,(6,5,0)\n",
    "\t\tobjp = np.zeros((nx*ny,3), np.float32)\n",
    "\t\tobjp[:,:2] = np.mgrid[0:nx, 0:ny].T.reshape(-1,2)\n",
    "\n",
    "\t\t# Make a list of calibration images\n",
    "\t\tfname = 'camera_cal/calibration%s.jpg' % str(k)\n",
    "\t\timg = cv2.imread(fname)\n",
    "\n",
    "\t\t# Convert to grayscale\n",
    "\t\tgray = cv2.cvtColor(img, cv2.COLOR_BGR2GRAY)\n",
    "\n",
    "\t\t# Find the chessboard corners\n",
    "\t\tret, corners = cv2.findChessboardCorners(gray, (nx, ny), None)\n",
    "\n",
    "\t\t# If found, save & draw corners\n",
    "\t\tif ret == True:\n",
    "\t\t\t# Save object points and corresponding corners\n",
    "\t\t\tobjp_list.append(objp)\n",
    "\t\t\tcorners_list.append(corners)\n",
    "\n",
    "\t\t\t# Draw and display the corners\n",
    "\t\t\t#cv2.drawChessboardCorners(img, (nx, ny), corners, ret)\n",
    "\t\t\t#plt.imshow(img)\n",
    "\t\t\t#plt.show()\n",
    "\t\t\t#print('Found corners for %s' % fname)\n",
    "\t\telse:\n",
    "\t\t\tprint('Warning: ret = %s for %s' % (ret, fname))\n",
    "\n",
    "\t# Calibrate camera and undistort a test image\n",
    "\timg = cv2.imread('test_images/straight_lines1.jpg')\n",
    "\timg_size = (img.shape[1], img.shape[0])\n",
    "\tret, mtx, dist, rvecs, tvecs = cv2.calibrateCamera(objp_list, corners_list, img_size,None,None)\n",
    "\n",
    "\treturn mtx, dist"
   ]
  },
  {
   "cell_type": "code",
   "execution_count": 3,
   "metadata": {},
   "outputs": [
    {
     "name": "stdout",
     "output_type": "stream",
     "text": [
      "Warning: ret = False for camera_cal/calibration4.jpg\n",
      "Warning: ret = False for camera_cal/calibration5.jpg\n"
     ]
    }
   ],
   "source": [
    "if __name__ == '__main__':\n",
    "\tmtx, dist = calibrate_camera()\n",
    "\tsave_dict = {'mtx': mtx, 'dist': dist}\n",
    "\twith open('calibrate_camera.p', 'wb') as f:\n",
    "\t\tpickle.dump(save_dict, f)\n",
    "\n",
    "\t# Undistort example calibration image\n",
    "\timg = mpimg.imread('camera_cal/calibration5.jpg')\n",
    "\tdst = cv2.undistort(img, mtx, dist, None, mtx)\n",
    "\tplt.imshow(dst)\n",
    "\tplt.savefig('example_images/undistort_calibration.png')\n"
   ]
  }
 ],
 "metadata": {
  "kernelspec": {
   "display_name": "Python 3",
   "language": "python",
   "name": "python3"
  },
  "language_info": {
   "codemirror_mode": {
    "name": "ipython",
    "version": 3
   },
   "file_extension": ".py",
   "mimetype": "text/x-python",
   "name": "python",
   "nbconvert_exporter": "python",
   "pygments_lexer": "ipython3",
   "version": "3.6.1"
  }
 },
 "nbformat": 4,
 "nbformat_minor": 2
}
